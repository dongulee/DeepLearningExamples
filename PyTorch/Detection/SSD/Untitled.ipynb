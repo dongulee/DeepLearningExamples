{
 "cells": [
  {
   "cell_type": "code",
   "execution_count": 1,
   "metadata": {},
   "outputs": [],
   "source": [
    "from src.katech import KATECHDetection"
   ]
  },
  {
   "cell_type": "code",
   "execution_count": 2,
   "metadata": {},
   "outputs": [],
   "source": [
    "katech = KATECHDetection.load('katech_ckpt5.pkl')"
   ]
  },
  {
   "cell_type": "code",
   "execution_count": 10,
   "metadata": {},
   "outputs": [],
   "source": [
    "img_dirs = [img[0] for key, img in katech.images.items()]"
   ]
  },
  {
   "cell_type": "code",
   "execution_count": 12,
   "metadata": {},
   "outputs": [],
   "source": [
    "sample_img_dirs = img_dirs[:10]"
   ]
  },
  {
   "cell_type": "code",
   "execution_count": 14,
   "metadata": {},
   "outputs": [],
   "source": [
    "sample_img_dirs_replaced = [dir.replace('/data/KATECH', '/home/dklee/data/KATECH') for dir in sample_img_dirs]"
   ]
  },
  {
   "cell_type": "code",
   "execution_count": 15,
   "metadata": {},
   "outputs": [
    {
     "data": {
      "text/plain": [
       "['/home/dklee/data/KATECH/성선영/01. 자동차전용도로_1차_성선영/20190821_134810/1/1_20190821_134810_690.jpg',\n",
       " '/home/dklee/data/KATECH/성선영/01. 자동차전용도로_1차_성선영/20190821_134810/1/1_20190821_134810_240.jpg',\n",
       " '/home/dklee/data/KATECH/성선영/01. 자동차전용도로_1차_성선영/20190821_134810/1/1_20190821_134810_870.jpg',\n",
       " '/home/dklee/data/KATECH/성선영/01. 자동차전용도로_1차_성선영/20190821_134810/1/1_20190821_134810_450.jpg',\n",
       " '/home/dklee/data/KATECH/성선영/01. 자동차전용도로_1차_성선영/20190821_134810/1/1_20190821_134810_930.jpg',\n",
       " '/home/dklee/data/KATECH/성선영/01. 자동차전용도로_1차_성선영/20190821_134810/1/1_20190821_134810_600.jpg',\n",
       " '/home/dklee/data/KATECH/성선영/01. 자동차전용도로_1차_성선영/20190821_134810/1/1_20190821_134810_0.jpg',\n",
       " '/home/dklee/data/KATECH/성선영/01. 자동차전용도로_1차_성선영/20190821_134810/1/1_20190821_134810_810.jpg',\n",
       " '/home/dklee/data/KATECH/성선영/01. 자동차전용도로_1차_성선영/20190821_134810/1/1_20190821_134810_120.jpg',\n",
       " '/home/dklee/data/KATECH/성선영/01. 자동차전용도로_1차_성선영/20190821_134810/1/1_20190821_134810_390.jpg']"
      ]
     },
     "execution_count": 15,
     "metadata": {},
     "output_type": "execute_result"
    }
   ],
   "source": [
    "sample_img_dirs_replaced"
   ]
  },
  {
   "cell_type": "code",
   "execution_count": 16,
   "metadata": {},
   "outputs": [
    {
     "ename": "TypeError",
     "evalue": "'tuple' object does not support item assignment",
     "output_type": "error",
     "traceback": [
      "\u001b[0;31m---------------------------------------------------------------------------\u001b[0m",
      "\u001b[0;31mTypeError\u001b[0m                                 Traceback (most recent call last)",
      "\u001b[0;32m<ipython-input-16-60dd23944607>\u001b[0m in \u001b[0;36m<module>\u001b[0;34m\u001b[0m\n\u001b[1;32m      1\u001b[0m \u001b[0;32mfor\u001b[0m \u001b[0mkey\u001b[0m\u001b[0;34m,\u001b[0m \u001b[0mimg\u001b[0m \u001b[0;32min\u001b[0m \u001b[0mkatech\u001b[0m\u001b[0;34m.\u001b[0m\u001b[0mimages\u001b[0m\u001b[0;34m.\u001b[0m\u001b[0mitems\u001b[0m\u001b[0;34m(\u001b[0m\u001b[0;34m)\u001b[0m\u001b[0;34m:\u001b[0m\u001b[0;34m\u001b[0m\u001b[0;34m\u001b[0m\u001b[0m\n\u001b[0;32m----> 2\u001b[0;31m     \u001b[0mimg\u001b[0m\u001b[0;34m[\u001b[0m\u001b[0;36m0\u001b[0m\u001b[0;34m]\u001b[0m \u001b[0;34m=\u001b[0m \u001b[0mimg\u001b[0m\u001b[0;34m[\u001b[0m\u001b[0;36m0\u001b[0m\u001b[0;34m]\u001b[0m\u001b[0;34m.\u001b[0m\u001b[0mreplace\u001b[0m\u001b[0;34m(\u001b[0m\u001b[0;34m'/data/KATECH'\u001b[0m\u001b[0;34m,\u001b[0m \u001b[0;34m'/home/dklee/data/KATECH'\u001b[0m\u001b[0;34m)\u001b[0m\u001b[0;34m\u001b[0m\u001b[0;34m\u001b[0m\u001b[0m\n\u001b[0m",
      "\u001b[0;31mTypeError\u001b[0m: 'tuple' object does not support item assignment"
     ]
    }
   ],
   "source": [
    "for key, img in katech.images.items():\n",
    "    img[0] = img[0].replace('/data/KATECH', '/home/dklee/data/KATECH')"
   ]
  },
  {
   "cell_type": "code",
   "execution_count": 20,
   "metadata": {},
   "outputs": [],
   "source": [
    "import os\n",
    "cocoval = '/home/dklee/data/coco/coco_2017/annotations/instances_val2017.json'"
   ]
  },
  {
   "cell_type": "code",
   "execution_count": 8,
   "metadata": {},
   "outputs": [
    {
     "ename": "NameError",
     "evalue": "name 'cocoval' is not defined",
     "output_type": "error",
     "traceback": [
      "\u001b[0;31m---------------------------------------------------------------------------\u001b[0m",
      "\u001b[0;31mNameError\u001b[0m                                 Traceback (most recent call last)",
      "\u001b[0;32m<ipython-input-8-4255cba5d141>\u001b[0m in \u001b[0;36m<module>\u001b[0;34m\u001b[0m\n\u001b[1;32m      1\u001b[0m \u001b[0;32mimport\u001b[0m \u001b[0mjson\u001b[0m\u001b[0;34m\u001b[0m\u001b[0;34m\u001b[0m\u001b[0m\n\u001b[0;32m----> 2\u001b[0;31m \u001b[0;32mwith\u001b[0m \u001b[0mopen\u001b[0m\u001b[0;34m(\u001b[0m\u001b[0mcocoval\u001b[0m\u001b[0;34m,\u001b[0m \u001b[0;34m'r'\u001b[0m\u001b[0;34m)\u001b[0m \u001b[0;32mas\u001b[0m \u001b[0mf\u001b[0m\u001b[0;34m:\u001b[0m\u001b[0;34m\u001b[0m\u001b[0;34m\u001b[0m\u001b[0m\n\u001b[0m\u001b[1;32m      3\u001b[0m     \u001b[0mcocoval_dict\u001b[0m \u001b[0;34m=\u001b[0m \u001b[0mjson\u001b[0m\u001b[0;34m.\u001b[0m\u001b[0mload\u001b[0m\u001b[0;34m(\u001b[0m\u001b[0mf\u001b[0m\u001b[0;34m)\u001b[0m\u001b[0;34m\u001b[0m\u001b[0;34m\u001b[0m\u001b[0m\n",
      "\u001b[0;31mNameError\u001b[0m: name 'cocoval' is not defined"
     ]
    }
   ],
   "source": [
    "import json\n",
    "with open(cocoval, 'r') as f:\n",
    "    cocoval_dict = json.load(f)"
   ]
  },
  {
   "cell_type": "code",
   "execution_count": 24,
   "metadata": {},
   "outputs": [
    {
     "data": {
      "text/plain": [
       "dict_keys(['info', 'licenses', 'images', 'annotations', 'categories'])"
      ]
     },
     "execution_count": 24,
     "metadata": {},
     "output_type": "execute_result"
    }
   ],
   "source": [
    "cocoval_dict.keys()"
   ]
  },
  {
   "cell_type": "code",
   "execution_count": 25,
   "metadata": {},
   "outputs": [
    {
     "data": {
      "text/plain": [
       "{'segmentation': [[510.66,\n",
       "   423.01,\n",
       "   511.72,\n",
       "   420.03,\n",
       "   510.45,\n",
       "   416.0,\n",
       "   510.34,\n",
       "   413.02,\n",
       "   510.77,\n",
       "   410.26,\n",
       "   510.77,\n",
       "   407.5,\n",
       "   510.34,\n",
       "   405.16,\n",
       "   511.51,\n",
       "   402.83,\n",
       "   511.41,\n",
       "   400.49,\n",
       "   510.24,\n",
       "   398.16,\n",
       "   509.39,\n",
       "   397.31,\n",
       "   504.61,\n",
       "   399.22,\n",
       "   502.17,\n",
       "   399.64,\n",
       "   500.89,\n",
       "   401.66,\n",
       "   500.47,\n",
       "   402.08,\n",
       "   499.09,\n",
       "   401.87,\n",
       "   495.79,\n",
       "   401.98,\n",
       "   490.59,\n",
       "   401.77,\n",
       "   488.79,\n",
       "   401.77,\n",
       "   485.39,\n",
       "   398.58,\n",
       "   483.9,\n",
       "   397.31,\n",
       "   481.56,\n",
       "   396.35,\n",
       "   478.48,\n",
       "   395.93,\n",
       "   476.68,\n",
       "   396.03,\n",
       "   475.4,\n",
       "   396.77,\n",
       "   473.92,\n",
       "   398.79,\n",
       "   473.28,\n",
       "   399.96,\n",
       "   473.49,\n",
       "   401.87,\n",
       "   474.56,\n",
       "   403.47,\n",
       "   473.07,\n",
       "   405.59,\n",
       "   473.39,\n",
       "   407.71,\n",
       "   476.68,\n",
       "   409.41,\n",
       "   479.23,\n",
       "   409.73,\n",
       "   481.56,\n",
       "   410.69,\n",
       "   480.4,\n",
       "   411.85,\n",
       "   481.35,\n",
       "   414.93,\n",
       "   479.86,\n",
       "   418.65,\n",
       "   477.32,\n",
       "   420.03,\n",
       "   476.04,\n",
       "   422.58,\n",
       "   479.02,\n",
       "   422.58,\n",
       "   480.29,\n",
       "   423.01,\n",
       "   483.79,\n",
       "   419.93,\n",
       "   486.66,\n",
       "   416.21,\n",
       "   490.06,\n",
       "   415.57,\n",
       "   492.18,\n",
       "   416.85,\n",
       "   491.65,\n",
       "   420.24,\n",
       "   492.82,\n",
       "   422.9,\n",
       "   493.56,\n",
       "   424.39,\n",
       "   496.43,\n",
       "   424.6,\n",
       "   498.02,\n",
       "   423.01,\n",
       "   498.13,\n",
       "   421.31,\n",
       "   497.07,\n",
       "   420.03,\n",
       "   497.07,\n",
       "   415.15,\n",
       "   496.33,\n",
       "   414.51,\n",
       "   501.1,\n",
       "   411.96,\n",
       "   502.06,\n",
       "   411.32,\n",
       "   503.02,\n",
       "   415.04,\n",
       "   503.33,\n",
       "   418.12,\n",
       "   501.1,\n",
       "   420.24,\n",
       "   498.98,\n",
       "   421.63,\n",
       "   500.47,\n",
       "   424.39,\n",
       "   505.03,\n",
       "   423.32,\n",
       "   506.2,\n",
       "   421.31,\n",
       "   507.69,\n",
       "   419.5,\n",
       "   506.31,\n",
       "   423.32,\n",
       "   510.03,\n",
       "   423.01,\n",
       "   510.45,\n",
       "   423.01]],\n",
       " 'area': 702.1057499999998,\n",
       " 'iscrowd': 0,\n",
       " 'image_id': 289343,\n",
       " 'bbox': [473.07, 395.93, 38.65, 28.67],\n",
       " 'category_id': 18,\n",
       " 'id': 1768}"
      ]
     },
     "execution_count": 25,
     "metadata": {},
     "output_type": "execute_result"
    }
   ],
   "source": [
    "cocoval_dict['annotations'][0]"
   ]
  },
  {
   "cell_type": "code",
   "execution_count": 26,
   "metadata": {},
   "outputs": [
    {
     "data": {
      "text/plain": [
       "1394.7955"
      ]
     },
     "execution_count": 26,
     "metadata": {},
     "output_type": "execute_result"
    }
   ],
   "source": [
    "48.65*28.67"
   ]
  },
  {
   "cell_type": "code",
   "execution_count": 13,
   "metadata": {},
   "outputs": [],
   "source": [
    "katech_val = '/home/dklee/data/KATECH/annotations/instances_val2021.json'\n",
    "with open(katech_val) as f:\n",
    "    katech_val_dict = json.load(f)"
   ]
  },
  {
   "cell_type": "code",
   "execution_count": 14,
   "metadata": {},
   "outputs": [
    {
     "data": {
      "text/plain": [
       "{'iscrowd': 0,\n",
       " 'image_id': 13356,\n",
       " 'area': 464284.8,\n",
       " 'bbox': [686.0, 752.0, 1230.0, 116.0],\n",
       " 'category_id': 19,\n",
       " 'id': 0}"
      ]
     },
     "execution_count": 14,
     "metadata": {},
     "output_type": "execute_result"
    }
   ],
   "source": [
    "katech_val_dict['annotations'][0]"
   ]
  },
  {
   "cell_type": "code",
   "execution_count": 3,
   "metadata": {},
   "outputs": [
    {
     "data": {
      "text/plain": [
       "'train'"
      ]
     },
     "execution_count": 3,
     "metadata": {},
     "output_type": "execute_result"
    }
   ],
   "source": [
    "katech.status"
   ]
  },
  {
   "cell_type": "code",
   "execution_count": 4,
   "metadata": {},
   "outputs": [],
   "source": [
    "katech.to_coco('/tmp/train2021.json')"
   ]
  },
  {
   "cell_type": "code",
   "execution_count": 5,
   "metadata": {},
   "outputs": [],
   "source": [
    "katech.set_val()\n",
    "katech.to_coco('/tmp/val2021.json')"
   ]
  },
  {
   "cell_type": "code",
   "execution_count": 6,
   "metadata": {},
   "outputs": [],
   "source": [
    "katech.set_all()\n",
    "katech.to_coco('/tmp/all2021.json')"
   ]
  },
  {
   "cell_type": "code",
   "execution_count": 9,
   "metadata": {},
   "outputs": [],
   "source": [
    "with open('/tmp/val2021.json') as f:\n",
    "    katech_val_dict = json.load(f)"
   ]
  },
  {
   "cell_type": "code",
   "execution_count": 11,
   "metadata": {},
   "outputs": [
    {
     "data": {
      "text/plain": [
       "{'license': 1,\n",
       " 'file_name': '2_20191018_150814_000600.jpg',\n",
       " 'coco_url': 'n.a.',\n",
       " 'height': 1080,\n",
       " 'width': 1920,\n",
       " 'date_captured': '2019-10-18 15:08:34.0',\n",
       " 'flickr_url': 'n.a.',\n",
       " 'id': 13356}"
      ]
     },
     "execution_count": 11,
     "metadata": {},
     "output_type": "execute_result"
    }
   ],
   "source": [
    "katech_val_dict['images'][0]"
   ]
  },
  {
   "cell_type": "code",
   "execution_count": null,
   "metadata": {},
   "outputs": [],
   "source": []
  }
 ],
 "metadata": {
  "kernelspec": {
   "display_name": "pytorch",
   "language": "python",
   "name": "pytorch"
  },
  "language_info": {
   "codemirror_mode": {
    "name": "ipython",
    "version": 3
   },
   "file_extension": ".py",
   "mimetype": "text/x-python",
   "name": "python",
   "nbconvert_exporter": "python",
   "pygments_lexer": "ipython3",
   "version": "3.6.12"
  }
 },
 "nbformat": 4,
 "nbformat_minor": 2
}
