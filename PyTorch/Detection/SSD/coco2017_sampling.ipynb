{
 "cells": [
  {
   "cell_type": "code",
   "execution_count": 73,
   "metadata": {},
   "outputs": [],
   "source": [
    "import json\n",
    "import os\n",
    "from src.utils import draw_patches\n",
    "import numpy as np\n",
    "\n",
    "coco_train = '/home/dklee/data/coco/coco_2017/annotations/instances_train2017.json'\n",
    "with open(coco_train) as f:\n",
    "    coco_train_dict = json.load(f)\n"
   ]
  },
  {
   "cell_type": "code",
   "execution_count": 74,
   "metadata": {},
   "outputs": [
    {
     "data": {
      "text/plain": [
       "dict_keys(['info', 'licenses', 'images', 'annotations', 'categories'])"
      ]
     },
     "execution_count": 74,
     "metadata": {},
     "output_type": "execute_result"
    }
   ],
   "source": [
    "coco_train_dict.keys()"
   ]
  },
  {
   "cell_type": "code",
   "execution_count": 75,
   "metadata": {},
   "outputs": [
    {
     "data": {
      "text/plain": [
       "{'license': 3,\n",
       " 'file_name': '000000391895.jpg',\n",
       " 'coco_url': 'http://images.cocodataset.org/train2017/000000391895.jpg',\n",
       " 'height': 360,\n",
       " 'width': 640,\n",
       " 'date_captured': '2013-11-14 11:18:45',\n",
       " 'flickr_url': 'http://farm9.staticflickr.com/8186/8119368305_4e622c8349_z.jpg',\n",
       " 'id': 391895}"
      ]
     },
     "execution_count": 75,
     "metadata": {},
     "output_type": "execute_result"
    }
   ],
   "source": [
    "coco_train_dict['images'][0]"
   ]
  },
  {
   "cell_type": "code",
   "execution_count": 83,
   "metadata": {},
   "outputs": [
    {
     "name": "stdout",
     "output_type": "stream",
     "text": [
      "4266\n"
     ]
    }
   ],
   "source": [
    "idx = [img['id'] for img in coco_train_dict['images']]\n",
    "idx.sort()\n",
    "print(idx[809])"
   ]
  },
  {
   "cell_type": "code",
   "execution_count": 90,
   "metadata": {},
   "outputs": [],
   "source": [
    "filtered_annotations = [lbl for lbl in coco_train_dict['annotations'] if lbl['image_id'] < 4266]"
   ]
  },
  {
   "cell_type": "code",
   "execution_count": 91,
   "metadata": {},
   "outputs": [
    {
     "data": {
      "text/plain": [
       "6098"
      ]
     },
     "execution_count": 91,
     "metadata": {},
     "output_type": "execute_result"
    }
   ],
   "source": [
    "len(filtered_annotations)"
   ]
  },
  {
   "cell_type": "code",
   "execution_count": 92,
   "metadata": {},
   "outputs": [],
   "source": [
    "ids = [x['image_id'] for x in filtered_annotations]"
   ]
  },
  {
   "cell_type": "code",
   "execution_count": 93,
   "metadata": {},
   "outputs": [
    {
     "data": {
      "text/plain": [
       "800"
      ]
     },
     "execution_count": 93,
     "metadata": {},
     "output_type": "execute_result"
    }
   ],
   "source": [
    "len(list(dict.fromkeys(ids)))"
   ]
  },
  {
   "cell_type": "code",
   "execution_count": 94,
   "metadata": {},
   "outputs": [
    {
     "name": "stdout",
     "output_type": "stream",
     "text": [
      "7888\n"
     ]
    }
   ],
   "source": [
    "coco_val = '/home/dklee/data/coco/coco_2017/annotations/instances_val2017.json'\n",
    "with open(coco_val) as f:\n",
    "    coco_val_dict = json.load(f)\n",
    "idx = [img['id'] for img in coco_val_dict['images']]\n",
    "idx.sort()\n",
    "print(idx[80])"
   ]
  },
  {
   "cell_type": "code",
   "execution_count": 96,
   "metadata": {},
   "outputs": [
    {
     "data": {
      "text/plain": [
       "80"
      ]
     },
     "execution_count": 96,
     "metadata": {},
     "output_type": "execute_result"
    }
   ],
   "source": [
    "val_800_anns = [lbl for lbl in coco_val_dict['annotations'] if lbl['image_id'] < 7888]\n",
    "val_ids = [x['image_id'] for x in val_800_anns]\n",
    "len(list(dict.fromkeys(val_ids)))"
   ]
  },
  {
   "cell_type": "code",
   "execution_count": 97,
   "metadata": {},
   "outputs": [],
   "source": [
    "coco_train_sample = {}\n",
    "coco_train_sample['info'] = coco_train_dict['info']\n",
    "coco_train_sample['licenses'] = coco_train_dict['licenses']\n",
    "coco_train_sample['categories'] = coco_train_dict['categories']\n",
    "coco_train_sample['images'] = [x for x in coco_train_dict['images'] if x['id'] < 4266]\n",
    "coco_train_sample['annotations'] = filtered_annotations\n"
   ]
  },
  {
   "cell_type": "code",
   "execution_count": 99,
   "metadata": {},
   "outputs": [],
   "source": [
    "coco_val_sample = {}\n",
    "coco_val_sample['info'] = coco_val_dict['info']\n",
    "coco_val_sample['licenses'] = coco_val_dict['licenses']\n",
    "coco_val_sample['categories'] = coco_val_dict['categories']\n",
    "coco_val_sample['images'] = [x for x in coco_val_dict['images'] if x['id'] < 7888]\n",
    "coco_val_sample['annotations'] = val_800_anns\n"
   ]
  },
  {
   "cell_type": "code",
   "execution_count": 100,
   "metadata": {},
   "outputs": [],
   "source": [
    "sample_file_train = '/home/dklee/data/coco/coco_2017/annotations/instances_train_sampled2.json'\n",
    "with open(sample_file_train, 'w') as f:\n",
    "    json.dump(coco_train_sample, f)"
   ]
  },
  {
   "cell_type": "code",
   "execution_count": 101,
   "metadata": {},
   "outputs": [],
   "source": [
    "sample_file_val = '/home/dklee/data/coco/coco_2017/annotations/instances_val_sampled2.json'\n",
    "with open(sample_file_val, 'w') as f:\n",
    "    json.dump(coco_val_sample, f)"
   ]
  },
  {
   "cell_type": "code",
   "execution_count": 102,
   "metadata": {},
   "outputs": [],
   "source": [
    "os.mkdir('/home/dklee/data/coco/coco_2017/train_sampled2')\n",
    "os.mkdir('/home/dklee/data/coco/coco_2017/val_sampled2')"
   ]
  },
  {
   "cell_type": "code",
   "execution_count": 104,
   "metadata": {},
   "outputs": [],
   "source": [
    "import shutil\n",
    "\n",
    "dirname = '/home/dklee/data/coco/coco_2017/train2017'\n",
    "target = '/home/dklee/data/coco/coco_2017/train_sampled2'\n",
    "for img in coco_train_sample['images']:\n",
    "    source = os.path.join(dirname, img['file_name'])\n",
    "    shutil.copy(source, target)"
   ]
  },
  {
   "cell_type": "code",
   "execution_count": 105,
   "metadata": {},
   "outputs": [],
   "source": [
    "dirname = '/home/dklee/data/coco/coco_2017/val2017'\n",
    "target = '/home/dklee/data/coco/coco_2017/val_sampled2'\n",
    "for img in coco_val_sample['images']:\n",
    "    source = os.path.join(dirname, img['file_name'])\n",
    "    \n",
    "    shutil.copy(source, target)"
   ]
  },
  {
   "cell_type": "code",
   "execution_count": 107,
   "metadata": {},
   "outputs": [
    {
     "name": "stdout",
     "output_type": "stream",
     "text": [
      "809\n",
      "80\n"
     ]
    }
   ],
   "source": [
    "print(len(os.listdir('/home/dklee/data/coco/coco_2017/train_sampled2')))\n",
    "print(len(os.listdir('/home/dklee/data/coco/coco_2017/val_sampled2')))"
   ]
  },
  {
   "cell_type": "code",
   "execution_count": null,
   "metadata": {},
   "outputs": [],
   "source": []
  }
 ],
 "metadata": {
  "kernelspec": {
   "display_name": "pytorch",
   "language": "python",
   "name": "pytorch"
  },
  "language_info": {
   "codemirror_mode": {
    "name": "ipython",
    "version": 3
   },
   "file_extension": ".py",
   "mimetype": "text/x-python",
   "name": "python",
   "nbconvert_exporter": "python",
   "pygments_lexer": "ipython3",
   "version": "3.6.12"
  }
 },
 "nbformat": 4,
 "nbformat_minor": 2
}
